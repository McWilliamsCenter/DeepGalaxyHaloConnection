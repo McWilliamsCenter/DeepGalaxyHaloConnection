{
 "cells": [
  {
   "cell_type": "markdown",
   "id": "2c39b874",
   "metadata": {},
   "source": [
    "# Generating orientation dataset with halotools\n",
    "\n",
    "In this notebook, we will be using the halo model-based intrinsic alignment model developed by Nick Van Alfen in Van Alfen et al. (in prep).\n",
    "\n",
    "\n",
    "\n",
    "## Step I: Defining the halo model"
   ]
  },
  {
   "cell_type": "code",
   "execution_count": 3,
   "id": "c0014972",
   "metadata": {},
   "outputs": [],
   "source": [
    "# Uncomment to download the halo catalog\n",
    "# from halotools.sim_manager import DownloadManager\n",
    "# dman = DownloadManager()\n",
    "# dman.download_processed_halo_table('bolshoi', 'rockstar', 0)"
   ]
  },
  {
   "cell_type": "code",
   "execution_count": 4,
   "id": "af57e4c5",
   "metadata": {},
   "outputs": [
    {
     "name": "stdout",
     "output_type": "stream",
     "text": [
      "%pylab is deprecated, use %matplotlib inline and import the required libraries.\n",
      "Populating the interactive namespace from numpy and matplotlib\n"
     ]
    }
   ],
   "source": [
    "%pylab inline\n",
    "import os \n",
    "os.environ['XLA_FLAGS']=\"--xla_gpu_force_compilation_parallelism=1\""
   ]
  },
  {
   "cell_type": "code",
   "execution_count": 5,
   "id": "e78fe56f",
   "metadata": {},
   "outputs": [],
   "source": [
    "from halotools.sim_manager import CachedHaloCatalog\n",
    "halocat = CachedHaloCatalog(simname='bolshoi', halo_finder='rockstar', redshift=0, version_name='halotools_v0p4')"
   ]
  },
  {
   "cell_type": "code",
   "execution_count": 34,
   "id": "46563b57",
   "metadata": {},
   "outputs": [],
   "source": [
    "from halotools.empirical_models import HodModelFactory\n",
    "\n",
    "# define the central occupatoion model\n",
    "from halotools.empirical_models import TrivialPhaseSpace, Zheng07Cens\n",
    "cens_occ_model =  Zheng07Cens()\n",
    "cens_prof_model = TrivialPhaseSpace()\n",
    "\n",
    "# define the satellite occupation model\n",
    "from halotools.empirical_models import Zheng07Sats\n",
    "from halotools.empirical_models import NFWPhaseSpace, SubhaloPhaseSpace\n",
    "\n",
    "\n",
    "sats_occ_model =  Zheng07Sats()\n",
    "sats_prof_model = SubhaloPhaseSpace('satellites', np.logspace(10.5, 15.2, 15))\n",
    "\n",
    "# define the alignment models\n",
    "from halotools.empirical_models.ia_models.ia_model_components import CentralAlignment,\\\n",
    "    RadialSatelliteAlignment\n",
    "\n",
    "central_orientation_model = CentralAlignment(central_alignment_strength=1.0)\n",
    "satellite_orientation_model = RadialSatelliteAlignment(satellite_alignment_strength=0.75)\n",
    "\n",
    "# combine model components\n",
    "model_instance = HodModelFactory(centrals_occupation = cens_occ_model,\n",
    "                                 centrals_profile = cens_prof_model,\n",
    "                                 satellites_occupation = sats_occ_model,\n",
    "                                 satellites_profile = sats_prof_model,\n",
    "                                 centrals_orientation = central_orientation_model,\n",
    "                                 satellites_orientation = satellite_orientation_model,\n",
    "                                 model_feature_calling_sequence = (\n",
    "                                 'centrals_occupation',\n",
    "                                 'centrals_profile',\n",
    "                                 'satellites_occupation',\n",
    "                                 'satellites_profile',\n",
    "                                 'centrals_orientation',\n",
    "                                 'satellites_orientation')\n",
    "                                )"
   ]
  },
  {
   "cell_type": "code",
   "execution_count": 35,
   "id": "f3c145ff",
   "metadata": {},
   "outputs": [
    {
     "name": "stdout",
     "output_type": "stream",
     "text": [
      "number of galaxies:  74870\n",
      "number of galaxies after filtering:  3391\n"
     ]
    },
    {
     "name": "stderr",
     "output_type": "stream",
     "text": [
      "/local/home/flanusse/repo/halotools/halotools/empirical_models/ia_models/ia_model_components.py:190: UserWarning: `central_alignment_strength` not detected in the table, using value in self.param_dict.\n",
      "  warn(msg)\n",
      "/local/home/flanusse/repo/halotools/halotools/empirical_models/ia_models/ia_model_components.py:520: UserWarning: `satellite_alignment_strength` key not detected in `table`.The value set in self.param_dict of this class will be used instead.\n",
      "  warn(msg)\n"
     ]
    }
   ],
   "source": [
    "# populate mock catalog\n",
    "model_instance.populate_mock(halocat)\n",
    "print(\"number of galaxies: \", len(model_instance.mock.galaxy_table))\n",
    "\n",
    "# For testing purposes, we are only going to keep halos with several satelittes\n",
    "m = (model_instance.mock.galaxy_table['halo_num_satellites'] > 5) & (model_instance.mock.galaxy_table['halo_num_satellites'] < 70)\n",
    "# Also removing halos close to the border to avoid border effects\n",
    "m = m & (model_instance.mock.galaxy_table['halo_x'] > 10) & (model_instance.mock.galaxy_table['halo_x'] < 240)\n",
    "m = m & (model_instance.mock.galaxy_table['halo_y'] > 10) & (model_instance.mock.galaxy_table['halo_y'] < 240)\n",
    "m = m & (model_instance.mock.galaxy_table['halo_z'] > 10) & (model_instance.mock.galaxy_table['halo_z'] < 240)\n",
    "\n",
    "galaxy_table = model_instance.mock.galaxy_table[m]\n",
    "\n",
    "# Scaling mass \n",
    "galaxy_table['mass_scaled'] = log10(galaxy_table['halo_mvir_host_halo']) \n",
    "galaxy_table['mass_scaled'] = galaxy_table['mass_scaled'] - galaxy_table['mass_scaled'].mean()\n",
    "galaxy_table['mass_scaled'] = galaxy_table['mass_scaled'] / galaxy_table['mass_scaled'].std()\n",
    "\n",
    "\n",
    "# Centering all halos\n",
    "galaxy_table['x'] = galaxy_table['x'] - galaxy_table['halo_x']\n",
    "galaxy_table['y'] = galaxy_table['y'] - galaxy_table['halo_y']\n",
    "galaxy_table['z'] = galaxy_table['z'] - galaxy_table['halo_z']\n",
    "\n",
    "print(\"number of galaxies after filtering: \", len(galaxy_table))"
   ]
  },
  {
   "cell_type": "markdown",
   "id": "56473067",
   "metadata": {},
   "source": [
    "## Step II: Create batches of graphs from this catalog"
   ]
  },
  {
   "cell_type": "code",
   "execution_count": 36,
   "id": "2ea4c325",
   "metadata": {},
   "outputs": [],
   "source": [
    "import jax\n",
    "import jax.numpy as jnp\n",
    "from functools import partial\n",
    "import haiku as hk\n",
    "import jax\n",
    "import jax.numpy as jnp\n",
    "import jraph\n",
    "import egnn_jax\n",
    "import optax\n",
    "\n",
    "from deepghc.dataset import get_batch_fn"
   ]
  },
  {
   "cell_type": "code",
   "execution_count": 37,
   "id": "ee5c1b3a",
   "metadata": {},
   "outputs": [
    {
     "name": "stdout",
     "output_type": "stream",
     "text": [
      "Precomputing dataset\n",
      "Done\n"
     ]
    }
   ],
   "source": [
    "batch_fn = get_batch_fn(galaxy_table, \n",
    "                                vector_keys=['x', 'y', 'z', \n",
    "                                             'galaxy_axisA_x', 'galaxy_axisA_y', 'galaxy_axisA_z',\n",
    "                                             'galaxy_axisB_x', 'galaxy_axisB_y', 'galaxy_axisB_z',\n",
    "                                             'galaxy_axisC_x', 'galaxy_axisC_y', 'galaxy_axisC_z',],\n",
    "                                scalar_keys=['mass_scaled'],\n",
    "                                context_keys=['mass_scaled']\n",
    "                               )"
   ]
  },
  {
   "cell_type": "code",
   "execution_count": 38,
   "id": "6b055877",
   "metadata": {},
   "outputs": [],
   "source": [
    "batch_init = batch_fn(jax.random.PRNGKey(0))\n",
    "batch_init = jax.tree_map(lambda x:x[0], batch_init)"
   ]
  },
  {
   "cell_type": "code",
   "execution_count": 39,
   "id": "7074e03c",
   "metadata": {},
   "outputs": [
    {
     "data": {
      "text/plain": [
       "<matplotlib.quiver.Quiver at 0x7f758569cfa0>"
      ]
     },
     "execution_count": 39,
     "metadata": {},
     "output_type": "execute_result"
    },
    {
     "data": {
      "image/png": "[encoded data removed]",
      "text/plain": [
       "<Figure size 640x480 with 1 Axes>"
      ]
     },
     "metadata": {},
     "output_type": "display_data"
    }
   ],
   "source": [
    "m = batch_init.nodes['vectors'][:,1,0] != 0\n",
    "quiver(batch_init.nodes['pos'][:,0][m],\n",
    "       batch_init.nodes['pos'][:,1][m],\n",
    "       batch_init.nodes['vectors'][:,1,0][m],\n",
    "       batch_init.nodes['vectors'][:,1,1][m])"
   ]
  },
  {
   "cell_type": "code",
   "execution_count": 176,
   "id": "e448406d",
   "metadata": {},
   "outputs": [],
   "source": [
    "# def EGCL(graph):\n",
    "#     \"\"\" Equivariant Graph Layer expects nodes with x, and h\n",
    "#     \"\"\"\n",
    "#     v = graph.nodes['v']\n",
    "#     h = graph.nodes['h']\n",
    "#     n_features = h.shape[-1]\n",
    "\n",
    "#     d_ij = jnp.sum((v[graph.receivers] - v[graph.senders])**2, axis=-1)\n",
    "    \n",
    "#     m_ij = hk.nets.MLP([n_features, n_features], activation=jax.nn.leaky_relu)(\n",
    "#             jnp.concatenate([h[graph.senders], \n",
    "#                              h[graph.receivers],\n",
    "#                              d_ij, \n",
    "#                              graph.edges.reshape([-1,1])] ,axis=-1)\n",
    "#             )\n",
    "    \n",
    "#     # Attention weight\n",
    "#     e_ij = jax.nn.sigmoid(hk.Linear(1)(m_ij))\n",
    "\n",
    "#     # Updating latents\n",
    "#     new_h = jax.nn.leaky_relu(hk.Linear(n_features)(\n",
    "#             jnp.concatenate([\n",
    "#                 h, \n",
    "#                 jraph.segment_sum( (e_ij*m_ij)[graph.senders], graph.receivers, num_segments=70)\n",
    "#             ], axis=-1)))\n",
    "#     new_h = h + hk.Linear(n_features)(new_h)\n",
    "\n",
    "#     # Updating vectors (but not the position)\n",
    "#     d = (v[graph.senders] - v[graph.receivers])/(jnp.sqrt(jnp.expand_dims((d_ij), -1) + 0.1))\n",
    "#     v_ij = hk.nets.MLP([n_features, n_features], activation=jax.nn.leaky_relu, name='vij')(\n",
    "#             jnp.concatenate([h[graph.senders], \n",
    "#                              h[graph.receivers],\n",
    "#                              d_ij, \n",
    "#                              graph.edges.reshape([-1,1])], axis=-1)\n",
    "#             )\n",
    "#     v_ij = hk.Linear(v.shape[-2], name='lin')(v_ij).reshape([-1, v.shape[-2], 1])\n",
    "#     new_v = v + jraph.segment_sum((d * v_ij)[graph.senders], graph.receivers, num_segments=70)\n",
    "    \n",
    "#     return graph._replace(nodes={'v': new_v,\n",
    "#                                  'h': new_h})"
   ]
  },
  {
   "cell_type": "code",
   "execution_count": 12,
   "id": "4a673f61",
   "metadata": {},
   "outputs": [],
   "source": [
    "def network_definition(graph: jraph.GraphsTuple) -> jraph.ArrayTree:\n",
    "    \n",
    "    input_rotations = graph.nodes['vectors'][:,1:].reshape([-1,9])\n",
    "    \n",
    "    # Extract node positions \n",
    "    pos = graph.nodes['vectors'][...,0,:]\n",
    "    \n",
    "    graph = graph._replace(nodes=graph.nodes['scalars'])\n",
    "\n",
    "    # Run the graph through an EGNN\n",
    "    h, v = egnn_jax.EGNN(hidden_size=32, \n",
    "                               output_size=32,\n",
    "                               normalize=False,\n",
    "                               tanh=False, \n",
    "                              )(graph, pos)\n",
    "\n",
    "    net = hk.nets.MLP([128, 128, 128], activation=jax.nn.leaky_relu)(jnp.concatenate([v, h, input_rotations], axis=-1))\n",
    "    \n",
    "    score = hk.Linear(3)(net)\n",
    "    \n",
    "    return graph._replace(nodes={'score': score})"
   ]
  },
  {
   "cell_type": "code",
   "execution_count": 13,
   "id": "b94a4358",
   "metadata": {},
   "outputs": [],
   "source": [
    "network = hk.without_apply_rng(hk.transform(network_definition))\n",
    "batch_init = batch_fn(jax.random.PRNGKey(42))\n",
    "#Removing the batch dimension\n",
    "batch_init = jax.tree_map(lambda x:x[0], batch_init)\n",
    "params = network.init(jax.random.PRNGKey(42), batch_init)"
   ]
  },
  {
   "cell_type": "code",
   "execution_count": 14,
   "id": "8b8b89f8",
   "metadata": {},
   "outputs": [
    {
     "name": "stderr",
     "output_type": "stream",
     "text": [
      "/local/home/flanusse/.local/lib/python3.8/site-packages/flax/struct.py:136: FutureWarning: jax.tree_util.register_keypaths is deprecated, and will be removed in a future release. Please use `register_pytree_with_keys()` instead.\n",
      "  jax.tree_util.register_keypaths(data_clz, keypaths)\n",
      "/local/home/flanusse/.local/lib/python3.8/site-packages/flax/struct.py:136: FutureWarning: jax.tree_util.register_keypaths is deprecated, and will be removed in a future release. Please use `register_pytree_with_keys()` instead.\n",
      "  jax.tree_util.register_keypaths(data_clz, keypaths)\n",
      "/local/home/flanusse/.local/lib/python3.8/site-packages/pandas/core/computation/expressions.py:20: UserWarning: Pandas requires version '2.7.3' or newer of 'numexpr' (version '2.7.1' currently installed).\n",
      "  from pandas.core.computation.check import NUMEXPR_INSTALLED\n"
     ]
    }
   ],
   "source": [
    "from jaxlie import SO3\n",
    "from so3dm.distributions import IsotropicGaussianSO3"
   ]
  },
  {
   "cell_type": "code",
   "execution_count": 15,
   "id": "d860c33b",
   "metadata": {},
   "outputs": [],
   "source": [
    "@jax.vmap\n",
    "def noise_fn1(u, key):\n",
    "    x = SO3.from_matrix(u)\n",
    "    dist = IsotropicGaussianSO3(x, 0.1)\n",
    "    qn = dist.sample(seed=key)\n",
    "    \n",
    "    def fn(s,q):\n",
    "        return dist.log_prob( (SO3(q) @ SO3.exp(s)).wxyz)\n",
    "    \n",
    "    score = jax.grad(fn)(jnp.zeros(3), qn)\n",
    "    return {'vn': SO3(qn).as_matrix(), 'score': score}\n",
    "\n",
    "@jax.jit\n",
    "@jax.vmap\n",
    "def noise_fn(u, key):\n",
    "    return noise_fn1(u, jax.random.split(key, 70))"
   ]
  },
  {
   "cell_type": "code",
   "execution_count": 16,
   "id": "dbf3eb47",
   "metadata": {},
   "outputs": [],
   "source": [
    "@jax.jit\n",
    "@partial(jax.vmap, in_axes=[None, 0])\n",
    "def prediction_loss(params, batch):\n",
    "    decoded_nodes = network.apply(params, batch)\n",
    "    \n",
    "    loss = jnp.sum((decoded_nodes.nodes['score'] - batch.nodes['score'])**2, axis=-1)\n",
    "    loss = decoded_nodes._replace(nodes=loss)\n",
    "    \n",
    "    # We create a mask to not consider the output of useless nodes\n",
    "    loss = jraph.zero_out_padding(loss)\n",
    "    \n",
    "    n = jraph.get_number_of_padding_with_graphs_nodes(batch)\n",
    "    \n",
    "    return jnp.sum(loss.nodes)/n\n",
    "\n",
    "@jax.jit\n",
    "def update(params, opt_state, batch):\n",
    "    l, g = jax.value_and_grad(lambda a,b:prediction_loss(a,b).mean())(params, batch)\n",
    "    updates, opt_state = opt_update(g, opt_state)\n",
    "    return optax.apply_updates(params, updates), opt_state, l"
   ]
  },
  {
   "cell_type": "code",
   "execution_count": 17,
   "id": "e9846397",
   "metadata": {},
   "outputs": [],
   "source": [
    "opt_init, opt_update = optax.adam(1e-3)\n",
    "opt_state = opt_init(params)\n",
    "seed = jax.random.PRNGKey(0)\n",
    "losses = []"
   ]
  },
  {
   "cell_type": "code",
   "execution_count": 18,
   "id": "5c247a7c",
   "metadata": {},
   "outputs": [],
   "source": [
    "for step in range(100):\n",
    "    seed, key, key2 = jax.random.split(seed, 3)\n",
    "    # Draw a batch of graphs\n",
    "    batch = batch_fn(key)\n",
    "    # Add noise to graphs\n",
    "    bn = noise_fn(batch.nodes['vectors'][:,:,1:], jax.random.split(key2, 32 ))\n",
    "     \n",
    "    batch = batch._replace(nodes={'scalars': batch.nodes['scalars'],\n",
    "                                 'vectors': jnp.concatenate([\n",
    "                                     batch.nodes['vectors'][:,:,0:1],\n",
    "                                     bn['vn']],axis=-2),\n",
    "                                 'true_vectors': batch.nodes['vectors'],\n",
    "                                 'score': bn['score']})\n",
    "    \n",
    "    params, opt_state, l = update(params, opt_state, batch)\n",
    "    losses.append(l)"
   ]
  },
  {
   "cell_type": "code",
   "execution_count": 19,
   "id": "18ead7a0",
   "metadata": {},
   "outputs": [
    {
     "data": {
      "text/plain": [
       "[<matplotlib.lines.Line2D at 0x7f722870b4f0>]"
      ]
     },
     "execution_count": 19,
     "metadata": {},
     "output_type": "execute_result"
    },
    {
     "data": {
      "image/png": "[encoded data removed]",
      "text/plain": [
       "<Figure size 640x480 with 1 Axes>"
      ]
     },
     "metadata": {},
     "output_type": "display_data"
    }
   ],
   "source": [
    "semilogy(losses[:])"
   ]
  },
  {
   "cell_type": "code",
   "execution_count": 21,
   "id": "0ac6b6d0",
   "metadata": {},
   "outputs": [],
   "source": [
    "res = jax.vmap(lambda x: network.apply(params, x))(batch)"
   ]
  },
  {
   "cell_type": "code",
   "execution_count": 188,
   "id": "dbe5f52e",
   "metadata": {},
   "outputs": [
    {
     "data": {
      "text/plain": [
       "(Array([nan, nan, nan], dtype=float32),\n",
       " Array([-3.105552 ,  9.239253 , -0.9322221], dtype=float32))"
      ]
     },
     "execution_count": 188,
     "metadata": {},
     "output_type": "execute_result"
    }
   ],
   "source": [
    "# res.nodes['score'][0,0], batch.nodes['score'][0,0]"
   ]
  },
  {
   "cell_type": "code",
   "execution_count": 22,
   "id": "5c30f0f3",
   "metadata": {},
   "outputs": [],
   "source": [
    "# # with graph\n",
    "# m = batch.nodes['true_vectors'][:,:,1,0] != 0\n",
    "# hist(jnp.sum(res.nodes['score'][m]/jnp.sqrt(jnp.sum(res.nodes['score'][m]**2 ,axis=-1, keepdims=True) )* batch.nodes['true_vectors'][:,:,1][m], axis=-1));\n",
    "# without graph\n",
    "# m = batch.nodes['true_vectors'][:,:,1,0] != 0\n",
    "# hist(jnp.sum(res.nodes['score'][m] * batch.nodes['true_vectors'][:,:,1][m], axis=-1));"
   ]
  },
  {
   "cell_type": "code",
   "execution_count": 23,
   "id": "45012f2c",
   "metadata": {},
   "outputs": [],
   "source": [
    "# now, let's try to denoise \n",
    "@jax.vmap\n",
    "@jax.vmap\n",
    "def denoise(M, score):\n",
    "    R = SO3.from_matrix(M)\n",
    "    return (R @ SO3.exp(score*0.75**2)).as_matrix()"
   ]
  },
  {
   "cell_type": "code",
   "execution_count": 24,
   "id": "f9c55bf4",
   "metadata": {},
   "outputs": [],
   "source": [
    "r = denoise(batch.nodes['vectors'][:,:,1:], batch.nodes['score'])\n",
    "r2 = denoise(batch.nodes['vectors'][:,:,1:], res.nodes['score'])"
   ]
  },
  {
   "cell_type": "code",
   "execution_count": 26,
   "id": "722af4fd",
   "metadata": {},
   "outputs": [
    {
     "data": {
      "text/plain": [
       "(0.0, 5.0)"
      ]
     },
     "execution_count": 26,
     "metadata": {},
     "output_type": "execute_result"
    },
    {
     "data": {
      "image/png": "[encoded data removed]",
      "text/plain": [
       "<Figure size 640x480 with 1 Axes>"
      ]
     },
     "metadata": {},
     "output_type": "display_data"
    }
   ],
   "source": [
    "m = batch.nodes['true_vectors'][:,:,1,0] != 0\n",
    "hist(jnp.sum(batch.nodes['vectors'][:,:,1][m] * batch.nodes['true_vectors'][:,:,1][m],axis=-1), 100, range=[-1,1],density=True, label='noisy');\n",
    "hist(jnp.sum(r[:,:,0][m] * batch.nodes['true_vectors'][:,:,1][m],axis=-1), 100, range=[-1,1], density=True, alpha=0.5, label='true_denoise');\n",
    "hist(jnp.sum(r2[:,:,0][m] * batch.nodes['true_vectors'][:,:,1][m],axis=-1), 100, range=[-1,1], density=True, alpha=0.5, label);\n",
    "ylim(0,5)"
   ]
  },
  {
   "cell_type": "code",
   "execution_count": 168,
   "id": "dc6b6d65",
   "metadata": {},
   "outputs": [
    {
     "data": {
      "text/plain": [
       "<matplotlib.quiver.Quiver at 0x7fab2b8cfd60>"
      ]
     },
     "execution_count": 168,
     "metadata": {},
     "output_type": "execute_result"
    },
    {
     "data": {
      "image/png": "[encoded data removed]",
      "text/plain": [
       "<Figure size 640x480 with 1 Axes>"
      ]
     },
     "metadata": {},
     "output_type": "display_data"
    }
   ],
   "source": [
    "m = batch.nodes['vectors'][0,:,1,0]!=0\n",
    "quiver(batch.nodes['vectors'][0,:,0,0][m], \n",
    "       batch.nodes['vectors'][0,:,0,1][m], \n",
    "       batch.nodes['vectors'][0,:,1,0][m], \n",
    "       batch.nodes['vectors'][0,:,1,1][m])"
   ]
  },
  {
   "cell_type": "code",
   "execution_count": 169,
   "id": "8278b930",
   "metadata": {},
   "outputs": [
    {
     "ename": "KeyError",
     "evalue": "'pos'",
     "output_type": "error",
     "traceback": [
      "\u001b[0;31m---------------------------------------------------------------------------\u001b[0m",
      "\u001b[0;31mKeyError\u001b[0m                                  Traceback (most recent call last)",
      "Cell \u001b[0;32mIn [169], line 1\u001b[0m\n\u001b[0;32m----> 1\u001b[0m m \u001b[38;5;241m=\u001b[39m \u001b[43mbatch\u001b[49m\u001b[38;5;241;43m.\u001b[39;49m\u001b[43mnodes\u001b[49m\u001b[43m[\u001b[49m\u001b[38;5;124;43m'\u001b[39;49m\u001b[38;5;124;43mpos\u001b[39;49m\u001b[38;5;124;43m'\u001b[39;49m\u001b[43m]\u001b[49m[\u001b[38;5;241m0\u001b[39m,:,\u001b[38;5;241m0\u001b[39m]\u001b[38;5;241m>\u001b[39m\u001b[38;5;241m0\u001b[39m\n\u001b[1;32m      2\u001b[0m quiver(batch\u001b[38;5;241m.\u001b[39mnodes[\u001b[38;5;124m'\u001b[39m\u001b[38;5;124mpos\u001b[39m\u001b[38;5;124m'\u001b[39m][\u001b[38;5;241m0\u001b[39m,:,\u001b[38;5;241m0\u001b[39m][m], \n\u001b[1;32m      3\u001b[0m        batch\u001b[38;5;241m.\u001b[39mnodes[\u001b[38;5;124m'\u001b[39m\u001b[38;5;124mpos\u001b[39m\u001b[38;5;124m'\u001b[39m][\u001b[38;5;241m0\u001b[39m,:,\u001b[38;5;241m1\u001b[39m][m], \n\u001b[1;32m      4\u001b[0m        bn[\u001b[38;5;124m'\u001b[39m\u001b[38;5;124mvn\u001b[39m\u001b[38;5;124m'\u001b[39m][\u001b[38;5;241m0\u001b[39m,:,\u001b[38;5;241m0\u001b[39m,\u001b[38;5;241m0\u001b[39m][m], \n\u001b[1;32m      5\u001b[0m        bn[\u001b[38;5;124m'\u001b[39m\u001b[38;5;124mvn\u001b[39m\u001b[38;5;124m'\u001b[39m][\u001b[38;5;241m0\u001b[39m,:,\u001b[38;5;241m0\u001b[39m,\u001b[38;5;241m1\u001b[39m][m])\n",
      "\u001b[0;31mKeyError\u001b[0m: 'pos'"
     ]
    }
   ],
   "source": [
    "m = batch.nodes['pos'][0,:,0]>0\n",
    "quiver(batch.nodes['pos'][0,:,0][m], \n",
    "       batch.nodes['pos'][0,:,1][m], \n",
    "       bn['vn'][0,:,0,0][m], \n",
    "       bn['vn'][0,:,0,1][m])"
   ]
  },
  {
   "cell_type": "code",
   "execution_count": null,
   "id": "e220e265",
   "metadata": {},
   "outputs": [],
   "source": []
  }
 ],
 "metadata": {
  "kernelspec": {
   "display_name": "Python 3",
   "language": "python",
   "name": "python3"
  },
  "language_info": {
   "codemirror_mode": {
    "name": "ipython",
    "version": 3
   },
   "file_extension": ".py",
   "mimetype": "text/x-python",
   "name": "python",
   "nbconvert_exporter": "python",
   "pygments_lexer": "ipython3",
   "version": "3.8.13"
  }
 },
 "nbformat": 4,
 "nbformat_minor": 5
}
